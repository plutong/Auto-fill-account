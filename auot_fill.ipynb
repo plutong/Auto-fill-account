{
 "cells": [
  {
   "cell_type": "markdown",
   "id": "8244542f-70b2-4a37-afdc-2edcabca9fa0",
   "metadata": {},
   "source": [
    "记账自动生成\n",
    "=====================\n",
    "我会用这个文件自动维护目前的记账Excel表格，从日，周，月的维度监测我的日常消费与收支情况。未来希望：\n",
    "1. 使用云同步自动将手机上的账同步到云平台上并抓取明细数据\n",
    "2. 生成明细表\n",
    "3. 创建仪表盘监测各类花费以及投资亏损收益情况"
   ]
  },
  {
   "cell_type": "code",
   "execution_count": 2,
   "id": "cce3fd2d-f6d0-4500-b85d-32b1169f712b",
   "metadata": {},
   "outputs": [],
   "source": [
    "import pandas as pd\n",
    "import datetime\n",
    "import numpy as np"
   ]
  },
  {
   "cell_type": "markdown",
   "id": "4ab62914-1986-4b30-98d5-22f6302fb493",
   "metadata": {},
   "source": [
    "## 昨日数据\n",
    "读取T-2的账户数据并文字展示"
   ]
  },
  {
   "cell_type": "code",
   "execution_count": 10,
   "id": "bca83075-111c-4b2a-8850-b2677b1e30a8",
   "metadata": {},
   "outputs": [
    {
     "name": "stdout",
     "output_type": "stream",
     "text": [
      "*****************************************\n",
      "今天是 09/18 ,昨天是 09/17\n",
      "今天是这个月的第 18 天,周三\n",
      "*****************************************\n",
      "上月数据:\n",
      "消费      -1976.936000\n",
      "平均消费      -65.897867\n",
      "结余        176.894000\n",
      "平均结余        5.896467\n",
      "总计     -95852.106000\n",
      "平均      -3195.070200\n",
      "Name: 八月, dtype: float64\n",
      "*****************************************\n",
      "昨天新加坡元账户数据:\n",
      "交通     -4.82\n",
      "伙食       NaN\n",
      "娱乐    -12.00\n",
      "日用       NaN\n",
      "工资       NaN\n",
      "投资       NaN\n",
      "房租       NaN\n",
      "学费       NaN\n",
      "日消费   -16.82\n",
      "日结余   -16.82\n",
      "周消费      NaN\n",
      "周结余      NaN\n",
      "月消费      NaN\n",
      "月结余      NaN\n",
      "月总计      NaN\n",
      "Name: 09/17, dtype: float64\n",
      "*****************************************\n",
      "昨天人民币账户数据:\n",
      "交通     NaN\n",
      "伙食     NaN\n",
      "娱乐     NaN\n",
      "日用     NaN\n",
      "工资     NaN\n",
      "投资     8.0\n",
      "房租     NaN\n",
      "学费     NaN\n",
      "日消费    NaN\n",
      "日结余    8.0\n",
      "周消费    NaN\n",
      "周结余    NaN\n",
      "月消费    NaN\n",
      "月结余    NaN\n",
      "月总计    NaN\n",
      "Name: 09/17, dtype: float64\n",
      "*****************************************\n"
     ]
    }
   ],
   "source": [
    "# 读取账户数据\n",
    "file_path = \"sample.xlsx\"\n",
    "main = pd.read_excel(file_path, sheet_name = 0, header = 0, index_col = 0, na_values = 0)\n",
    "sgd = pd.read_excel(file_path, sheet_name = 1, header = 0, index_col = 0, na_values = 0)\n",
    "cny = pd.read_excel(file_path, sheet_name = 2, header = 0, index_col = 0, na_values = 0)\n",
    "\n",
    "# 读取今天的日期数据\n",
    "print(\"*****************************************\")\n",
    "time_ref = [\"一\",\"二\",\"三\",\"四\",\"五\",\"六\",\"七\",\"八\",\"九\",\"十\",\"十一\",\"十二\"]\n",
    "today = datetime.date.today() - datetime.timedelta(days = 1)\n",
    "yesterday = today - datetime.timedelta(days = 1)\n",
    "next_month = today.replace(day = 28)+datetime.timedelta(days = 4)\n",
    "week_start = today - datetime.timedelta(days = today.weekday())\n",
    "month_start = today - datetime.timedelta(days = today.day - 1)\n",
    "month_end = next_month - datetime.timedelta(days = next_month.day)\n",
    "last_month = time_ref[today.month - 2] + \"月\"\n",
    "this_month = time_ref[today.month - 1] + \"月\"\n",
    "day_of_month = today.day\n",
    "day_of_week = today.weekday()\n",
    "today = today.strftime('%m/%d')\n",
    "yesterday = yesterday.strftime('%m/%d')\n",
    "week_start = week_start.strftime('%m/%d')\n",
    "month_start = month_start.strftime('%m/%d')\n",
    "month_end = month_end.strftime('%m/%d')\n",
    "print(\"今天是\",today,\",昨天是\", yesterday)\n",
    "print(\"今天是这个月的第\",day_of_month,\"天,周\"+time_ref[day_of_week])\n",
    "\n",
    "# 展示数据切片\n",
    "print(\"*****************************************\")\n",
    "print(\"上月数据:\")\n",
    "print(main[last_month])\n",
    "print(\"*****************************************\")\n",
    "print(\"昨天新加坡元账户数据:\")\n",
    "print(sgd[yesterday])\n",
    "print(\"*****************************************\")\n",
    "print(\"昨天人民币账户数据:\")\n",
    "print(cny[yesterday])\n",
    "print(\"*****************************************\")"
   ]
  },
  {
   "cell_type": "markdown",
   "id": "0aab2515-4218-4b5c-952a-46bd5e53479a",
   "metadata": {},
   "source": [
    "## 明细录入\n",
    "目前我需要手动输入各类明细数据，每部分明细数据输入完毕后输入0结束这类输入，收集后汇总到目标明细项之中"
   ]
  },
  {
   "cell_type": "code",
   "execution_count": 12,
   "id": "24deb78e-ee7a-49b4-a235-929f688a5e7b",
   "metadata": {},
   "outputs": [
    {
     "name": "stdout",
     "output_type": "stream",
     "text": [
      "*****************************************\n",
      "请输入新加坡元 交通 数据\n"
     ]
    },
    {
     "name": "stdin",
     "output_type": "stream",
     "text": [
      "请输入明细数据 -1.49\n",
      "请输入明细数据 -1.3\n",
      "请输入明细数据 0\n"
     ]
    },
    {
     "name": "stdout",
     "output_type": "stream",
     "text": [
      "*****************************************\n",
      "请输入人民币 交通 数据\n"
     ]
    },
    {
     "name": "stdin",
     "output_type": "stream",
     "text": [
      "请输入明细数据 0\n"
     ]
    },
    {
     "name": "stdout",
     "output_type": "stream",
     "text": [
      "*****************************************\n",
      "请输入新加坡元 伙食 数据\n"
     ]
    },
    {
     "name": "stdin",
     "output_type": "stream",
     "text": [
      "请输入明细数据 -3.8\n",
      "请输入明细数据 -5.8\n",
      "请输入明细数据 -6.2\n",
      "请输入明细数据 0\n"
     ]
    },
    {
     "name": "stdout",
     "output_type": "stream",
     "text": [
      "*****************************************\n",
      "请输入人民币 伙食 数据\n"
     ]
    },
    {
     "name": "stdin",
     "output_type": "stream",
     "text": [
      "请输入明细数据 0\n"
     ]
    },
    {
     "name": "stdout",
     "output_type": "stream",
     "text": [
      "*****************************************\n",
      "请输入新加坡元 娱乐 数据\n"
     ]
    },
    {
     "name": "stdin",
     "output_type": "stream",
     "text": [
      "请输入明细数据 0\n"
     ]
    },
    {
     "name": "stdout",
     "output_type": "stream",
     "text": [
      "*****************************************\n",
      "请输入人民币 娱乐 数据\n"
     ]
    },
    {
     "name": "stdin",
     "output_type": "stream",
     "text": [
      "请输入明细数据 0\n"
     ]
    },
    {
     "name": "stdout",
     "output_type": "stream",
     "text": [
      "*****************************************\n",
      "请输入新加坡元 日用 数据\n"
     ]
    },
    {
     "name": "stdin",
     "output_type": "stream",
     "text": [
      "请输入明细数据 0\n"
     ]
    },
    {
     "name": "stdout",
     "output_type": "stream",
     "text": [
      "*****************************************\n",
      "请输入人民币 日用 数据\n"
     ]
    },
    {
     "name": "stdin",
     "output_type": "stream",
     "text": [
      "请输入明细数据 0\n"
     ]
    },
    {
     "name": "stdout",
     "output_type": "stream",
     "text": [
      "*****************************************\n",
      "请输入新加坡元 工资 数据\n"
     ]
    },
    {
     "name": "stdin",
     "output_type": "stream",
     "text": [
      "请输入明细数据 0\n"
     ]
    },
    {
     "name": "stdout",
     "output_type": "stream",
     "text": [
      "*****************************************\n",
      "请输入人民币 工资 数据\n"
     ]
    },
    {
     "name": "stdin",
     "output_type": "stream",
     "text": [
      "请输入明细数据 0\n"
     ]
    },
    {
     "name": "stdout",
     "output_type": "stream",
     "text": [
      "*****************************************\n",
      "请输入新加坡元 投资 数据\n"
     ]
    },
    {
     "name": "stdin",
     "output_type": "stream",
     "text": [
      "请输入明细数据 0\n"
     ]
    },
    {
     "name": "stdout",
     "output_type": "stream",
     "text": [
      "*****************************************\n",
      "请输入人民币 投资 数据\n"
     ]
    },
    {
     "name": "stdin",
     "output_type": "stream",
     "text": [
      "请输入明细数据 0.03\n",
      "请输入明细数据 1.11\n",
      "请输入明细数据 7.05\n",
      "请输入明细数据 0.72\n",
      "请输入明细数据 0\n"
     ]
    },
    {
     "name": "stdout",
     "output_type": "stream",
     "text": [
      "*****************************************\n",
      "请输入新加坡元 房租 数据\n"
     ]
    },
    {
     "name": "stdin",
     "output_type": "stream",
     "text": [
      "请输入明细数据 0\n"
     ]
    },
    {
     "name": "stdout",
     "output_type": "stream",
     "text": [
      "*****************************************\n",
      "请输入人民币 房租 数据\n"
     ]
    },
    {
     "name": "stdin",
     "output_type": "stream",
     "text": [
      "请输入明细数据 0\n"
     ]
    },
    {
     "name": "stdout",
     "output_type": "stream",
     "text": [
      "*****************************************\n",
      "请输入新加坡元 学费 数据\n"
     ]
    },
    {
     "name": "stdin",
     "output_type": "stream",
     "text": [
      "请输入明细数据 0\n"
     ]
    },
    {
     "name": "stdout",
     "output_type": "stream",
     "text": [
      "*****************************************\n",
      "请输入人民币 学费 数据\n"
     ]
    },
    {
     "name": "stdin",
     "output_type": "stream",
     "text": [
      "请输入明细数据 0\n"
     ]
    },
    {
     "name": "stdout",
     "output_type": "stream",
     "text": [
      "*****************************************\n"
     ]
    }
   ],
   "source": [
    "# 统计今日分类数据\n",
    "def count():\n",
    "    count = 0\n",
    "    while True:\n",
    "        new = float(input(\"请输入明细数据\"))\n",
    "        if new == 0: return count\n",
    "        count += new\n",
    "\n",
    "# 输入明细数据并记录\n",
    "print(\"*****************************************\")\n",
    "shopping_list = sgd.index.to_list()[0:4]\n",
    "restting_list = sgd.index.to_list()[0:6]\n",
    "category_list = sgd.index.to_list()[0:8]\n",
    "for category in category_list:\n",
    "    print(\"请输入新加坡元\",category,\"数据\")\n",
    "    sgd_cnt = count()\n",
    "    print(\"*****************************************\")\n",
    "    print(\"请输入人民币\",category,\"数据\")\n",
    "    cny_cnt = count()\n",
    "    print(\"*****************************************\")\n",
    "    if sgd_cnt != 0: sgd.loc[category,today] = sgd_cnt\n",
    "    if cny_cnt != 0: cny.loc[category,today] = cny_cnt"
   ]
  },
  {
   "cell_type": "markdown",
   "id": "152567e1-2756-4c8e-a647-7b1b22234a96",
   "metadata": {},
   "source": [
    "## 数据统计\n",
    "统计今天，本周以及本月三个维度各类消费，结余，总计数据。其中消费仅包括日常消费数据，结余在此基础上计算算入工资与投资的收支情况，总计会包括房租学费等大类数据统计在内之后的数据"
   ]
  },
  {
   "cell_type": "code",
   "execution_count": 14,
   "id": "63d1e614-3964-4fd4-9bbb-8fb790cd396b",
   "metadata": {},
   "outputs": [],
   "source": [
    "shopping_list = sgd.index.to_list()[0:4]\n",
    "restting_list = sgd.index.to_list()[0:6]\n",
    "category_list = sgd.index.to_list()[0:8]\n",
    "# 汇总数据\n",
    "sgd.loc['日消费',today] = sgd.loc[shopping_list,today].astype(float).sum() if sgd.loc[shopping_list,today].astype(float).sum() != 0 else np.nan\n",
    "cny.loc['日消费',today] = cny.loc[shopping_list,today].astype(float).sum() if cny.loc[shopping_list,today].astype(float).sum() != 0 else np.nan\n",
    "sgd.loc['日结余',today] = sgd.loc[restting_list,today].astype(float).sum() if sgd.loc[restting_list,today].astype(float).sum() != 0 else np.nan\n",
    "cny.loc['日结余',today] = cny.loc[restting_list,today].astype(float).sum() if cny.loc[restting_list,today].astype(float).sum() != 0 else np.nan\n",
    "\n",
    "sgd.loc['周消费',week_start] = sgd.loc[shopping_list,week_start:today].astype(float).sum().sum() if sgd.loc[shopping_list,week_start:today].astype(float).sum().sum() != 0 else np.nan\n",
    "cny.loc['周消费',week_start] = cny.loc[shopping_list,week_start:today].astype(float).sum().sum() if cny.loc[shopping_list,week_start:today].astype(float).sum().sum() != 0 else np.nan\n",
    "sgd.loc['周结余',week_start] = sgd.loc[restting_list,week_start:today].astype(float).sum().sum() if sgd.loc[restting_list,week_start:today].astype(float).sum().sum() != 0 else np.nan\n",
    "cny.loc['周结余',week_start] = cny.loc[restting_list,week_start:today].astype(float).sum().sum() if cny.loc[restting_list,week_start:today].astype(float).sum().sum() != 0 else np.nan\n",
    "\n",
    "sgd.loc['月消费',month_start] = sgd.loc[shopping_list,month_start:today].astype(float).sum().sum()\n",
    "cny.loc['月消费',month_start] = cny.loc[shopping_list,month_start:today].astype(float).sum().sum()\n",
    "sgd.loc['月结余',month_start] = sgd.loc[restting_list,month_start:today].astype(float).sum().sum()\n",
    "cny.loc['月结余',month_start] = cny.loc[restting_list,month_start:today].astype(float).sum().sum()\n",
    "sgd.loc['月总计',month_start] = sgd.loc[category_list,month_start:today].astype(float).sum().sum()\n",
    "cny.loc['月总计',month_start] = cny.loc[category_list,month_start:today].astype(float).sum().sum()\n",
    "main.loc['消费',this_month] = 5.45 * sgd.loc['月消费',month_start] + sgd.loc['月消费',month_start]\n",
    "main.loc['结余',this_month] = 5.45 * sgd.loc['月结余',month_start] + sgd.loc['月结余',month_start]\n",
    "main.loc['总计',this_month] = 5.45 * sgd.loc['月总计',month_start] + sgd.loc['月总计',month_start]\n",
    "main.loc['平均消费',this_month] = round(main.loc['消费',this_month] / int(day_of_month), 2)\n",
    "main.loc['平均结余',this_month] = round(main.loc['结余',this_month] / int(day_of_month), 2)\n",
    "main.loc['平均',this_month] = round(main.loc['总计',this_month] / int(day_of_month), 2)"
   ]
  },
  {
   "cell_type": "markdown",
   "id": "ea80c69e-cf74-4831-931d-8d162b34b257",
   "metadata": {},
   "source": [
    "## 今日数据\n",
    "统计完成后展示T-1天各类明细项与汇总数据"
   ]
  },
  {
   "cell_type": "code",
   "execution_count": 18,
   "id": "95f2a67f-23e1-4ab8-b9e6-f487c4b7e035",
   "metadata": {},
   "outputs": [
    {
     "name": "stdout",
     "output_type": "stream",
     "text": [
      "*****************************************\n",
      "本月数据:\n",
      "消费     -923.4465\n",
      "平均消费    -51.3000\n",
      "结余     -631.8420\n",
      "平均结余    -35.1000\n",
      "总计     -631.8420\n",
      "平均      -35.1000\n",
      "Name: 九月, dtype: float64\n",
      "*****************************************\n",
      "本周新加坡元账户数据:\n",
      "周消费   -42.0\n",
      "周结余   -37.0\n",
      "Name: 09/16, dtype: float64\n",
      "*****************************************\n",
      "本周人民币账户数据:\n",
      "周消费      NaN\n",
      "周结余    25.03\n",
      "Name: 09/16, dtype: float64\n",
      "*****************************************\n",
      "今日新加坡元账户数据:\n",
      "交通    -2.79\n",
      "伙食   -15.80\n",
      "娱乐      NaN\n",
      "日用      NaN\n",
      "工资      NaN\n",
      "投资      NaN\n",
      "房租      NaN\n",
      "学费      NaN\n",
      "Name: 09/18, dtype: float64\n",
      "*****************************************\n",
      "今天人民币账户数据:\n",
      "交通     NaN\n",
      "伙食     NaN\n",
      "娱乐     NaN\n",
      "日用     NaN\n",
      "工资     NaN\n",
      "投资    8.91\n",
      "房租     NaN\n",
      "学费     NaN\n",
      "Name: 09/18, dtype: float64\n",
      "*****************************************\n"
     ]
    }
   ],
   "source": [
    "# 展示数据切片\n",
    "print(\"*****************************************\")\n",
    "print(\"本月数据:\")\n",
    "print(main[this_month])\n",
    "print(\"*****************************************\")\n",
    "print(\"本周新加坡元账户数据:\")\n",
    "print(sgd.loc[['周消费','周结余'],week_start])\n",
    "print(\"*****************************************\")\n",
    "print(\"本周人民币账户数据:\")\n",
    "print(cny.loc[['周消费','周结余'],week_start])\n",
    "print(\"*****************************************\")\n",
    "print(\"今日新加坡元账户数据:\")\n",
    "print(sgd.loc[category_list,today])\n",
    "print(\"*****************************************\")\n",
    "print(\"今天人民币账户数据:\")\n",
    "print(cny.loc[category_list,today])\n",
    "print(\"*****************************************\")"
   ]
  },
  {
   "cell_type": "markdown",
   "id": "fcfb26ab-b482-483c-b4f1-13421d2da03d",
   "metadata": {},
   "source": [
    "## 数据录入\n",
    "在确认数据问题无误后将更新后的账目写入源文件"
   ]
  },
  {
   "cell_type": "code",
   "execution_count": 20,
   "id": "7a6c8e12-fb9c-43d4-8ccc-57addff64cb4",
   "metadata": {},
   "outputs": [],
   "source": [
    "# 将表格写入目标文件夹\n",
    "with pd.ExcelWriter(\"sample.xlsx\") as writer:\n",
    "    main.to_excel(writer, sheet_name = \"总帐\")\n",
    "    sgd.to_excel(writer, sheet_name = \"SG\")\n",
    "    cny.to_excel(writer, sheet_name = \"CN\")"
   ]
  }
 ],
 "metadata": {
  "kernelspec": {
   "display_name": "Python 3 (ipykernel)",
   "language": "python",
   "name": "python3"
  },
  "language_info": {
   "codemirror_mode": {
    "name": "ipython",
    "version": 3
   },
   "file_extension": ".py",
   "mimetype": "text/x-python",
   "name": "python",
   "nbconvert_exporter": "python",
   "pygments_lexer": "ipython3",
   "version": "3.12.4"
  }
 },
 "nbformat": 4,
 "nbformat_minor": 5
}
